{
 "cells": [
  {
   "cell_type": "markdown",
   "id": "58d0a9f5",
   "metadata": {},
   "source": [
    "The overall philosophy here is as follows. \n",
    "\n",
    "Functions calculating exact values of metrics validate only business constraints. For example, Total Measured Ad Impressions for CTR cannot be lower than Total Measured Clicks because it makes no sense. For the same reason these values cannot be negative. Additional similar checks are performed to avoid zero divisions. However, these functions assume that the input they get has the corrent type and do not perform type casting. Besides, the output is never rounded. The reason is that sometimes precision can matter. If rounding is required, it can be performed when printing the results.\n",
    "\n",
    "User input is consumed and type-validated in the last section of the assignment. There, the program checks whether the input can be correctly parsed and casts it to the correct types to pass it to the target metric functions. In the user-interation section I cast all values that can be either integers or floats to floats because if a value can be parsed as an integer, it can surely be parsed as a float, but not vice versa (well, it technically can but the decimal part is going to be lost). But the metrics functions were still designed so that they accept both types.\n",
    "\n",
    "Sometimes it might seem not too user-friendly to validate formatting and business constraints separately. For example, when a user has to enter multiple values and one of them is invalid, they might have to start all over again. However, I think that single responsibility is more important. Validation functions can only know how to statically validate the input, and metric functions can only know their logical constraints. That is, the user must be responsible for any inconsistencies in their data."
   ]
  },
  {
   "cell_type": "markdown",
   "id": "7fee922a",
   "metadata": {},
   "source": [
    "## User Input Validations\n",
    "\n",
    "The functions in this sections are used to perform basic validation of the user input and check whether the provided input can be parsed into the needed data types."
   ]
  },
  {
   "cell_type": "code",
   "execution_count": 1,
   "id": "02d6c1ba",
   "metadata": {},
   "outputs": [],
   "source": [
    "def is_integer(value: str) -> bool:\n",
    "    \"\"\"\n",
    "    Checks whether a string can be parsed into an integer.\n",
    "    \n",
    "    Args:\n",
    "        value (str) -- the string to validate\n",
    "    \n",
    "    Returns:\n",
    "        bool: True if the string can be parsed into an integer, \n",
    "        False otherwise\n",
    "    \"\"\"\n",
    "    try:\n",
    "        int(value)\n",
    "        return True\n",
    "    except ValueError:\n",
    "        return False"
   ]
  },
  {
   "cell_type": "code",
   "execution_count": 2,
   "id": "fa985139",
   "metadata": {},
   "outputs": [],
   "source": [
    "def is_float(value: str) -> bool:\n",
    "    \"\"\"\n",
    "    Checks whether a string can be parsed into a float.\n",
    "    \n",
    "    Args:\n",
    "        value (str) -- the string to validate\n",
    "    \n",
    "    Returns:\n",
    "        bool: True if the string can be parsed into a float, \n",
    "        False otherwise\n",
    "    \"\"\"\n",
    "    try:\n",
    "        float(value)\n",
    "        return True\n",
    "    except ValueError:\n",
    "        return False"
   ]
  },
  {
   "cell_type": "code",
   "execution_count": 3,
   "id": "19affda8",
   "metadata": {},
   "outputs": [],
   "source": [
    "def is_integer_list(values: list[str]) -> bool:\n",
    "    \"\"\"\n",
    "    Checks whether each of the given string values \n",
    "    can be parsed into an integer.\n",
    "    \n",
    "    Args:\n",
    "        values (list[str]) -- the list of strings to validate\n",
    "    \n",
    "    Returns:\n",
    "        bool: True if the strings can be parsed into integers, \n",
    "        False otherwise\n",
    "    \"\"\"\n",
    "    for value in values:\n",
    "        if not is_integer(value):\n",
    "            return False\n",
    "    return True"
   ]
  },
  {
   "cell_type": "markdown",
   "id": "40a9e341",
   "metadata": {},
   "source": [
    "## Utility\n",
    "\n",
    "This section declares utility functions to parse user input or calculate intermediate values."
   ]
  },
  {
   "cell_type": "code",
   "execution_count": 4,
   "id": "d5757165",
   "metadata": {},
   "outputs": [],
   "source": [
    "def parse_integer_list(values: list[str]) -> list[int]:\n",
    "    \"\"\"\n",
    "    Parses given string values into a list of integers.\n",
    "    The function assumes that all values in the given list \n",
    "    can be parsed into integers and does not additionally \n",
    "    validate the input.\n",
    "    \n",
    "    Args:\n",
    "        values (list[str]) -- the list of strings to parse\n",
    "    \n",
    "    Returns:\n",
    "        list[str]: the parsed strings\n",
    "    \"\"\"\n",
    "    return list(map(int, values))"
   ]
  },
  {
   "cell_type": "code",
   "execution_count": 5,
   "id": "cc74445f",
   "metadata": {},
   "outputs": [],
   "source": [
    "def average_list_value(values: list[int]) -> float:\n",
    "    \"\"\"\n",
    "    Finds the average of the values in the given list.\n",
    "    The function assumes that the list is not empty\n",
    "    and all values in the given list are integers. \n",
    "    It does not additionally validate the input.\n",
    "    \n",
    "    Args:\n",
    "        values (list[int]) -- a list of integers\n",
    "    \n",
    "    Returns:\n",
    "        float: the average of the values in the given list\n",
    "    \"\"\"\n",
    "    return sum(values) / len(values)"
   ]
  },
  {
   "cell_type": "markdown",
   "id": "94be9c6a",
   "metadata": {},
   "source": [
    "## Metrics"
   ]
  },
  {
   "cell_type": "markdown",
   "id": "ccea0eaf",
   "metadata": {},
   "source": [
    "### Main\n",
    "\n",
    "The functions in this section are used to calculate the following metrics:\n",
    "\n",
    "\n",
    "* **Click-Through Rate (CTR)** is calculated as $$\\text{CTR} = \\frac{\\text{Total Measured Clicks}}{\\text{Total Measured Ad Impressions}} \\times 100$$ where \"total measured clicks\" is the total amount of clicks on an ad; \"total measured ad impressions\" is the number of times an ad was loaded on a page. Click-through rates measure how successful an ad has been in capturing users' attention. The higher the click-through rate, the more successful the ad has been in generating interest.\n",
    "\n",
    "* **Return on Investment (ROI)** is calculated as $$\\text{ROI} = \\frac{(\\text{Amount Gained} - \\text{Amount Spent})}{\\text{Amount Spent}} \\times 100$$ where \"amount gained\" is the amount of income that has been generated by an investment; \"amount spent\" is the total amount spent on an investment. ROI stands for Return on Investment and means the amount of money you get back relative to the amount of money you put into something. It is different to profit, which is simply the amount spent subtracted from the amount earned. ROI goes a step further and works out profit per the amount spent. This answers the question \"How much profit can I earn per pound/dollar/euro etc. spent?\"\n",
    "\n",
    "* **Average Page Time** is calculated as $$\\text{Average Page Time} = \\frac{\\sum{\\text{Time Spent on a Page by a User}}}{\\text{Number of Users}}$$ where \"time spent on a page by a user\" is time measured for each user who visits a webpage; \"number of users\" is the number of users who visit a webpage. Keep in mind, that usually users who spend less than 5 seconds on a webpage are not included in the calculations. Hint! You might think about parameters passed to a function as one of Python series structures.\n",
    "\n",
    "* **Customer Lifetime Value (CLV)** is calculated as $$\\text{CLV} = \\text{Average Purchase Value} \\times \\text{Average Purchase Frequency} \\times \\text{Average Customer Lifespan}$$ and used to predict how much revenue a customer will drive over time. The formula differs from the assignment. [Source](https://www.netsuite.com/portal/resource/articles/ecommerce/customer-lifetime-value-clv.shtml).\n",
    "\n",
    "* **Conversion Rate (CR)** is calculated as $$\\text{CR} = \\frac{\\text{Total Attributed Conversion}}{\\text{Total Measured Clicks}} \\times 100$$ where \"total attributed conversion\" is the total amount of conversion recorded which have been caused clicks; \"total clicks\" – number of times an ad was clicked on."
   ]
  },
  {
   "cell_type": "code",
   "execution_count": 6,
   "id": "574a5f06",
   "metadata": {},
   "outputs": [],
   "source": [
    "def click_through_rate(total_measured_clicks: int, total_measured_ad_impressions: int) -> float:\n",
    "    \"\"\"\n",
    "    Calculates Click-Through Rate (CTR). Click-through rates measure \n",
    "    how successful an ad has been in capturing users' attention. \n",
    "    The higher the click-through rate, the more successful the ad has been \n",
    "    in generating interest.\n",
    "    \n",
    "    CTR = (Total Measured Clicks / Total Measured Ad Impressions) * 100\n",
    "        \n",
    "    The function assumes that both of the values are integers \n",
    "    and does not additionally validate their type. \n",
    "    \n",
    "    The function checks that Total Measured Ad Impressions is greater than zero,\n",
    "    Total Measured Clicks is non-negative, and Total Measured Ad Impressions \n",
    "    is not less than Total Measured Clicks. If any of these conditions is violated, \n",
    "    a message is shown and None value is returned.\n",
    "    \n",
    "    Args:\n",
    "        total_measured_clicks (int) -- Total Measured Clicks\n",
    "        total_measured_ad_impressions (int) -- Total Measured Ad Impressions\n",
    "    \n",
    "    Returns:\n",
    "        float: the calculated CTR\n",
    "    \"\"\"\n",
    "    if total_measured_ad_impressions <= 0:\n",
    "        print(\"The number of total measured ad impressions must be greater than zero.\")\n",
    "        return\n",
    "    if total_measured_clicks < 0:\n",
    "        print(\"The number of total measured clicks must be greater than or equal to zero.\")\n",
    "        return\n",
    "    if total_measured_ad_impressions < total_measured_clicks:\n",
    "        print(\"The number of total measured ad impressions must be greater than or equal to the number of total measured clicks.\")\n",
    "        return\n",
    "    return 100 * total_measured_clicks / total_measured_ad_impressions"
   ]
  },
  {
   "cell_type": "code",
   "execution_count": 7,
   "id": "545d8122",
   "metadata": {},
   "outputs": [],
   "source": [
    "def return_on_investment(amount_gained: int | float, amount_spent: int | float) -> float:\n",
    "    \"\"\"\n",
    "    Calculates Return on Investment (ROI). ROI measures the amount of money \n",
    "    gained back relative to the amount of money put into something.\n",
    "    \n",
    "    ROI = 100 * (Amount Gained – Amount Spent) / Amount Spent\n",
    "    \n",
    "    The function assumes that both of the values are integers or floats \n",
    "    and does not additionally validate their type.\n",
    "    \n",
    "    The function checks that Amount Spent is greater than zero,\n",
    "    and Amount Gained is greater than or equal to zero.\n",
    "    If this is false, then a message is shown and None value is returned.\n",
    "    \n",
    "    Args:\n",
    "        amount_gained (int or float) -- Amount Gained\n",
    "        amount_spent (int or float) -- Amount Spent\n",
    "    \n",
    "    Returns:\n",
    "        float: the calculated ROI\n",
    "    \"\"\"\n",
    "    if amount_spent <= 0:\n",
    "        print(\"Amount spent must be greater than zero.\")\n",
    "        return\n",
    "    if amount_gained < 0:\n",
    "        print(\"Amount gained must be greater than or equal to zero.\")\n",
    "        return\n",
    "    return 100 * (amount_gained - amount_spent) / amount_spent"
   ]
  },
  {
   "cell_type": "code",
   "execution_count": 8,
   "id": "4d414851",
   "metadata": {},
   "outputs": [],
   "source": [
    "def average_page_time(users: list[int]) -> float:\n",
    "    \"\"\"\n",
    "    Calculates Average Page Time. The average page time metric shows \n",
    "    how much time is spent on your website page.\n",
    "    \n",
    "    Average Page Time = Σ(Time Spent on a Page by a User) / Number of Users\n",
    "    \n",
    "    The function assumes that the given list contains only integers \n",
    "    and does not additionally validate their type.\n",
    "    \n",
    "    The function checks whether the list is not empty.\n",
    "    Users who spend less than 5 seconds on a webpage are not included in the calculations.\n",
    "    If any of these is false, a message is shown and None value is returned.\n",
    "    \n",
    "    Args:\n",
    "        users (list[int]) -- a list of data on how many seconds users spend on a website page\n",
    "    \n",
    "    Returns:\n",
    "        float: the calculated Average Page Time\n",
    "    \"\"\"\n",
    "    if len(users) == 0:\n",
    "        print(\"The list of user data cannot be empty.\")\n",
    "        return\n",
    "    users = [user for user in users if user > 5]\n",
    "    if len(users) == 0:\n",
    "        print(\"There are no users who spent more than 5 seconds on the webpage. Nothing to process.\")\n",
    "        return\n",
    "    return average_list_value(users)"
   ]
  },
  {
   "cell_type": "markdown",
   "id": "07a979c4",
   "metadata": {},
   "source": [
    "Please note that the formula of CLV was changed compared to the assignment. [Source](https://www.netsuite.com/portal/resource/articles/ecommerce/customer-lifetime-value-clv.shtml)."
   ]
  },
  {
   "cell_type": "code",
   "execution_count": 9,
   "id": "4316d7d5",
   "metadata": {},
   "outputs": [],
   "source": [
    "def customer_lifetime_value(average_purchase_value: int | float, \n",
    "                            average_purchase_frequency: int | float, \n",
    "                            average_customer_lifespan: int | float) -> int | float:\n",
    "    \"\"\"\n",
    "    Calculates Customer Lifetime Value (CLV). CLV measures \n",
    "    how much a business can plan to earn from the average customer \n",
    "    over the course of the relationship.\n",
    "    \n",
    "    CLV = Average Purchase Value X Average Purchase Frequency X Average Customer Lifespan\n",
    "    \n",
    "    The function assumes that the given values are either integers or floats \n",
    "    and does not additionally validate their type.\n",
    "    \n",
    "    The function checks that none of the given values is negative. If any of them is,\n",
    "    a message is shown and None value is returned.\n",
    "    \n",
    "    Args:\n",
    "        average_purchase_value (int or float) -- Average Purchase Value\n",
    "        average_purchase_frequency (int or float) -- Average Purchase Frequency\n",
    "        average_customer_lifespan (int or float) -- Average Customer Lifespan\n",
    "    \n",
    "    Returns:\n",
    "        int or float: the calculated CLV\n",
    "    \"\"\"\n",
    "    if average_purchase_value < 0 or average_purchase_frequency < 0 or average_customer_lifespan < 0:\n",
    "        print(\"All of the arguments must be non-negative.\")\n",
    "        return\n",
    "    return average_purchase_value * average_purchase_frequency * average_customer_lifespan"
   ]
  },
  {
   "cell_type": "code",
   "execution_count": 10,
   "id": "68d74339",
   "metadata": {},
   "outputs": [],
   "source": [
    "def conversion_rate(total_attributed_conversion: int, total_measured_clicks: int) -> float:\n",
    "    \"\"\"\n",
    "    Calculates Conversion Rate (CR). Conversion rate is the proportion of visitors \n",
    "    who convert on a website. A conversion could be a completed web form, \n",
    "    content downloads, trial sign-ups, or completed purchases.\n",
    "    \n",
    "    CR = 100 * Total Attributed Conversion / Total Measured Clicks\n",
    "    \n",
    "    The function assumes that both of the values are integers\n",
    "    and does not additionally validate their type.\n",
    "    \n",
    "    The function checks that Total Measured Clicks is greater than zero.\n",
    "    If this is false, a message is shown and None value is returned.\n",
    "    \n",
    "    Args:\n",
    "        total_attributed_conversion (int) -- Total Attributed Conversion\n",
    "        total_measured_clicks (int) -- Total Measured Clicks\n",
    "    \n",
    "    Returns:\n",
    "        float: the calculated CR\n",
    "    \"\"\"\n",
    "    if total_measured_clicks <= 0:\n",
    "        print(\"The number of total measured clicks must be greater than zero.\")\n",
    "        return\n",
    "    if total_attributed_conversion < 0:\n",
    "        print(\"The number of total attributed conversion must be greater than or equal to zero.\")\n",
    "        return\n",
    "    if total_measured_clicks < total_attributed_conversion:\n",
    "        print(\"The number of total measured clicks must be greater than or equal to the number of total attributed conversion.\")\n",
    "        return\n",
    "    return 100 * total_attributed_conversion / total_measured_clicks"
   ]
  },
  {
   "cell_type": "markdown",
   "id": "32e274f2",
   "metadata": {},
   "source": [
    "### Additional\n",
    "\n",
    "The functions in this section are used to calculate the following metrics:\n",
    "\n",
    "* **Pages per Session** is the count of a website’s total page views divided by the total number of sessions that have taken place. It indicates the average number of pages on your website that users access per session. Having a high average Pages per Session means that the average visitor to your website is interested in exploring your website beyond the initial page they land on. $$\\text{Pages per Session} = \\frac{\\sum{\\text{Pages Visited in a Session}}}{\\text{Number of Sessions}}$$ While your average session duration might be high, ask yourself — how are visitors using this time? Do they stick to one or two pages, or do they explore further? Pages per Session can answer these questions. [Source](https://www.klipfolio.com/metrics/marketing/page-views-per-session/).\n",
    "\n",
    "* **Average Session Duration** measures the average amount of time spent per session on your website. It is calculated by dividing total time spent across sessions by the total number of sessions. $$\\text{Average Session Duration} = \\frac{\\sum{\\text{ Session Duration}}}{\\text{Total Number of Sessions}}$$ The average session duration metric calculates how much time a visitor was active on your website. Like the average pageviews per session, this metric is an excellent indicator of your website’s engagement. The more clicks your website gets, the higher this metric will be. [Source](https://www.klipfolio.com/metrics/marketing/average-session-duration/).\n",
    "\n",
    "* **Bounce Rate** is the percentage of people who land on a page on your website, then leave. They don't click on anything else or visit a second page on the site. A bounce is a single-page session on your site. If the success of your site depends on users viewing more than one page, then a high bounce rate is bad. If you have a single-page site like a blog, or offer other types of content for which single-page sessions are expected, then a high bounce rate is perfectly normal. $$\\text{Bounce Rate} = \\frac{\\text{Number of Single-Page Sessions}}{\\text{Total Number of Sessions}}$$ Bounce rate is single-page sessions divided by all sessions, or the percentage of all sessions on your site in which users viewed only a single page. [Source](https://support.google.com/analytics/answer/1009409)."
   ]
  },
  {
   "cell_type": "code",
   "execution_count": 11,
   "id": "760118fe",
   "metadata": {},
   "outputs": [],
   "source": [
    "def pages_per_session(sessions: list[int]) -> float:\n",
    "    \"\"\"\n",
    "    Calculates Pages per Session. Pages per Session is the count of a website \n",
    "    total page views divided by the total number of sessions that have taken place.\n",
    "    \n",
    "    Pages per Session = Σ(Page Views in a Session) / Number of Sessions\n",
    "    \n",
    "    The function assumes that the given list contains only integers \n",
    "    and does not additionally validate their type.\n",
    "    \n",
    "    The function checks whether the list is not empty.\n",
    "    If this is false, a message is shown and None value is returned.\n",
    "    \n",
    "    Args:\n",
    "        sessions (list[int]) -- a list of data on how many pages \n",
    "        users visit in a single session\n",
    "    \n",
    "    Returns:\n",
    "        float: the calculated Pages per Sessions\n",
    "    \"\"\"\n",
    "    if len(sessions) == 0:\n",
    "        print(\"The list of user data cannot be empty.\")\n",
    "        return\n",
    "    return average_list_value(sessions)"
   ]
  },
  {
   "cell_type": "code",
   "execution_count": 12,
   "id": "686eeae0",
   "metadata": {},
   "outputs": [],
   "source": [
    "def average_session_duration(sessions: list[int]) -> float:\n",
    "    \"\"\"\n",
    "    Calculates Average Session Duration. This metric calculates \n",
    "    how much time a visitor was active on your website.\n",
    "    \n",
    "    Average Session Duration = Σ(Session Duration) / Number of Sessions\n",
    "    \n",
    "    The function assumes that the given list contains only integers \n",
    "    and does not additionally validate their type.\n",
    "    \n",
    "    The function checks whether the list is not empty.\n",
    "    If this is false, a message is shown and None value is returned.\n",
    "    \n",
    "    Args:\n",
    "        sessions (list[int]) -- a list of data on how much time\n",
    "        users spend in a single session\n",
    "    \n",
    "    Returns:\n",
    "        float: the calculated Average Session Duration\n",
    "    \"\"\"\n",
    "    if len(sessions) == 0:\n",
    "        print(\"The list of user data cannot be empty.\")\n",
    "        return\n",
    "    return average_list_value(sessions)"
   ]
  },
  {
   "cell_type": "code",
   "execution_count": 13,
   "id": "6b650aca",
   "metadata": {},
   "outputs": [],
   "source": [
    "def bounce_rate(pages_per_session: list[int]) -> float:\n",
    "    \"\"\"\n",
    "    Calculates Bounce Rate. Bounce Rate is the percentage of people \n",
    "    who land on a page on your website, then leave.\n",
    "    \n",
    "    Bounce Rate = Number of Single-Page Sessions / Number of Sessions\n",
    "    \n",
    "    The function assumes that the given list contains only integers \n",
    "    and does not additionally validate their type.\n",
    "    \n",
    "    The function checks whether the list is not empty.\n",
    "    If this is false, a message is shown and None value is returned.\n",
    "    \n",
    "    Args:\n",
    "        sessions (list[int]) -- a list of data on how many pages\n",
    "        users visit in a single session\n",
    "    \n",
    "    Returns:\n",
    "        float: the calculated Bounce Rate\n",
    "    \"\"\"\n",
    "    if len(pages_per_session) == 0:\n",
    "        print(\"The list of user data cannot be empty.\")\n",
    "        return\n",
    "    bounces = 0\n",
    "    for visit in pages_per_session:\n",
    "        bounces += visit == 1\n",
    "    return bounces / len(pages_per_session)"
   ]
  },
  {
   "cell_type": "markdown",
   "id": "92dbc986",
   "metadata": {},
   "source": [
    "## Extreme Cases Tests"
   ]
  },
  {
   "cell_type": "markdown",
   "id": "9f239f40",
   "metadata": {},
   "source": [
    "Check that CTR accepts only non-negative Total Measured Clicks, natural Total Measured Ad Impressions, and Total Measured Ad Impressions must be not less than Total Measured Clicks."
   ]
  },
  {
   "cell_type": "code",
   "execution_count": 14,
   "id": "5651543b",
   "metadata": {},
   "outputs": [
    {
     "name": "stdout",
     "output_type": "stream",
     "text": [
      "The number of total measured ad impressions must be greater than zero.\n"
     ]
    }
   ],
   "source": [
    "click_through_rate(32, -4)"
   ]
  },
  {
   "cell_type": "code",
   "execution_count": 15,
   "id": "14669fa8",
   "metadata": {},
   "outputs": [
    {
     "name": "stdout",
     "output_type": "stream",
     "text": [
      "The number of total measured clicks must be greater than or equal to zero.\n"
     ]
    }
   ],
   "source": [
    "click_through_rate(-2, 36)"
   ]
  },
  {
   "cell_type": "code",
   "execution_count": 16,
   "id": "9ffaefdf",
   "metadata": {},
   "outputs": [
    {
     "name": "stdout",
     "output_type": "stream",
     "text": [
      "The number of total measured ad impressions must be greater than or equal to the number of total measured clicks.\n"
     ]
    }
   ],
   "source": [
    "click_through_rate(32, 26)"
   ]
  },
  {
   "cell_type": "code",
   "execution_count": 17,
   "id": "6950e5f4",
   "metadata": {},
   "outputs": [
    {
     "data": {
      "text/plain": [
       "84.61538461538461"
      ]
     },
     "execution_count": 17,
     "metadata": {},
     "output_type": "execute_result"
    }
   ],
   "source": [
    "# This is invalid because the number of clicks cannont be float,\n",
    "# but this should have been checked when dealing with keyboard input.\n",
    "# In a real dataset, this would have been an outlier,\n",
    "# but it's not the responsibility of the metrics to take care about that\n",
    "click_through_rate(5.5, 6.5) "
   ]
  },
  {
   "cell_type": "markdown",
   "id": "869f9644",
   "metadata": {},
   "source": [
    "Check that ROI validates that Amount Spent is greater than zero, and Amount Gained is greater than or equal to zero."
   ]
  },
  {
   "cell_type": "code",
   "execution_count": 18,
   "id": "56987b24",
   "metadata": {},
   "outputs": [
    {
     "name": "stdout",
     "output_type": "stream",
     "text": [
      "Amount spent must be greater than zero.\n"
     ]
    }
   ],
   "source": [
    "return_on_investment(0, 0)"
   ]
  },
  {
   "cell_type": "code",
   "execution_count": 19,
   "id": "a573d5eb",
   "metadata": {},
   "outputs": [
    {
     "name": "stdout",
     "output_type": "stream",
     "text": [
      "Amount gained must be greater than or equal to zero.\n"
     ]
    }
   ],
   "source": [
    "return_on_investment(-1, 1)"
   ]
  },
  {
   "cell_type": "code",
   "execution_count": 20,
   "id": "ae29ec44",
   "metadata": {},
   "outputs": [
    {
     "data": {
      "text/plain": [
       "-100.0"
      ]
     },
     "execution_count": 20,
     "metadata": {},
     "output_type": "execute_result"
    }
   ],
   "source": [
    "return_on_investment(0, 1)"
   ]
  },
  {
   "cell_type": "markdown",
   "id": "dceb4f1a",
   "metadata": {},
   "source": [
    "Check that Average Page Time cannot be calculated for an empty list, or with no users who spent more than 5 seconds on a page."
   ]
  },
  {
   "cell_type": "code",
   "execution_count": 21,
   "id": "78a92c29",
   "metadata": {},
   "outputs": [
    {
     "name": "stdout",
     "output_type": "stream",
     "text": [
      "The list of user data cannot be empty.\n"
     ]
    }
   ],
   "source": [
    "average_page_time([])"
   ]
  },
  {
   "cell_type": "code",
   "execution_count": 22,
   "id": "ae9db31d",
   "metadata": {},
   "outputs": [
    {
     "name": "stdout",
     "output_type": "stream",
     "text": [
      "There are no users who spent more than 5 seconds on the webpage. Nothing to process.\n"
     ]
    }
   ],
   "source": [
    "average_page_time([1, 2, 3, 4])"
   ]
  },
  {
   "cell_type": "code",
   "execution_count": 23,
   "id": "1c4673eb",
   "metadata": {},
   "outputs": [
    {
     "data": {
      "text/plain": [
       "19.8"
      ]
     },
     "execution_count": 23,
     "metadata": {},
     "output_type": "execute_result"
    }
   ],
   "source": [
    "average_page_time([23, 56, 4, 6, 6, 8, 3])"
   ]
  },
  {
   "cell_type": "markdown",
   "id": "9586ca5d",
   "metadata": {},
   "source": [
    "Check that CLV cannot be calculated when any of the values is negative."
   ]
  },
  {
   "cell_type": "code",
   "execution_count": 24,
   "id": "78f4a856",
   "metadata": {},
   "outputs": [
    {
     "name": "stdout",
     "output_type": "stream",
     "text": [
      "All of the arguments must be non-negative.\n"
     ]
    }
   ],
   "source": [
    "customer_lifetime_value(-1, 4, 5)"
   ]
  },
  {
   "cell_type": "code",
   "execution_count": 25,
   "id": "20733c89",
   "metadata": {},
   "outputs": [
    {
     "name": "stdout",
     "output_type": "stream",
     "text": [
      "All of the arguments must be non-negative.\n"
     ]
    }
   ],
   "source": [
    "customer_lifetime_value(45, -4, 78)"
   ]
  },
  {
   "cell_type": "code",
   "execution_count": 26,
   "id": "36eed06c",
   "metadata": {},
   "outputs": [
    {
     "name": "stdout",
     "output_type": "stream",
     "text": [
      "All of the arguments must be non-negative.\n"
     ]
    }
   ],
   "source": [
    "customer_lifetime_value(45, 4, -78)"
   ]
  },
  {
   "cell_type": "code",
   "execution_count": 27,
   "id": "279ae3a8",
   "metadata": {},
   "outputs": [
    {
     "data": {
      "text/plain": [
       "14040"
      ]
     },
     "execution_count": 27,
     "metadata": {},
     "output_type": "execute_result"
    }
   ],
   "source": [
    "customer_lifetime_value(45, 78, 4)"
   ]
  },
  {
   "cell_type": "markdown",
   "id": "1b7f0076",
   "metadata": {},
   "source": [
    "Check that CR cannot be calculated when there are no measured clicks, or total attributed conversion is negative, or total measured clicks is less than total attributed conversion."
   ]
  },
  {
   "cell_type": "code",
   "execution_count": 28,
   "id": "73aafda4",
   "metadata": {},
   "outputs": [
    {
     "name": "stdout",
     "output_type": "stream",
     "text": [
      "The number of total measured clicks must be greater than zero.\n"
     ]
    }
   ],
   "source": [
    "conversion_rate(23, 0)"
   ]
  },
  {
   "cell_type": "code",
   "execution_count": 29,
   "id": "20d30613",
   "metadata": {},
   "outputs": [
    {
     "name": "stdout",
     "output_type": "stream",
     "text": [
      "The number of total attributed conversion must be greater than or equal to zero.\n"
     ]
    }
   ],
   "source": [
    "conversion_rate(-23, 144)"
   ]
  },
  {
   "cell_type": "code",
   "execution_count": 30,
   "id": "8ba397cc",
   "metadata": {},
   "outputs": [
    {
     "name": "stdout",
     "output_type": "stream",
     "text": [
      "The number of total measured clicks must be greater than or equal to the number of total attributed conversion.\n"
     ]
    }
   ],
   "source": [
    "conversion_rate(23, 14)"
   ]
  },
  {
   "cell_type": "code",
   "execution_count": 31,
   "id": "24ade562",
   "metadata": {},
   "outputs": [
    {
     "data": {
      "text/plain": [
       "15.972222222222221"
      ]
     },
     "execution_count": 31,
     "metadata": {},
     "output_type": "execute_result"
    }
   ],
   "source": [
    "conversion_rate(23, 144)"
   ]
  },
  {
   "cell_type": "markdown",
   "id": "f41beab2",
   "metadata": {},
   "source": [
    "Check that Pages per Session cannot be calculated for an empty list."
   ]
  },
  {
   "cell_type": "code",
   "execution_count": 32,
   "id": "374374c5",
   "metadata": {},
   "outputs": [
    {
     "name": "stdout",
     "output_type": "stream",
     "text": [
      "The list of user data cannot be empty.\n"
     ]
    }
   ],
   "source": [
    "pages_per_session([])"
   ]
  },
  {
   "cell_type": "code",
   "execution_count": 33,
   "id": "b14cd792",
   "metadata": {},
   "outputs": [
    {
     "data": {
      "text/plain": [
       "8.11111111111111"
      ]
     },
     "execution_count": 33,
     "metadata": {},
     "output_type": "execute_result"
    }
   ],
   "source": [
    "pages_per_session([1, 4, 7, 3, 4, 6, 9, 36, 3])"
   ]
  },
  {
   "cell_type": "markdown",
   "id": "489dd8c3",
   "metadata": {},
   "source": [
    "Check that Average Session Duration cannot be calculated for an empty list."
   ]
  },
  {
   "cell_type": "code",
   "execution_count": 34,
   "id": "eac5b6ae",
   "metadata": {},
   "outputs": [
    {
     "name": "stdout",
     "output_type": "stream",
     "text": [
      "The list of user data cannot be empty.\n"
     ]
    }
   ],
   "source": [
    "average_session_duration([])"
   ]
  },
  {
   "cell_type": "code",
   "execution_count": 35,
   "id": "95ce1597",
   "metadata": {},
   "outputs": [
    {
     "data": {
      "text/plain": [
       "23.77777777777778"
      ]
     },
     "execution_count": 35,
     "metadata": {},
     "output_type": "execute_result"
    }
   ],
   "source": [
    "average_session_duration([15, 42, 7, 35, 4, 63, 9, 36, 3])"
   ]
  },
  {
   "cell_type": "markdown",
   "id": "26dee507",
   "metadata": {},
   "source": [
    "Check that Bounce Rate cannot be calculated for an empty list."
   ]
  },
  {
   "cell_type": "code",
   "execution_count": 36,
   "id": "6bf1a5a1",
   "metadata": {},
   "outputs": [
    {
     "name": "stdout",
     "output_type": "stream",
     "text": [
      "The list of user data cannot be empty.\n"
     ]
    }
   ],
   "source": [
    "bounce_rate([])"
   ]
  },
  {
   "cell_type": "code",
   "execution_count": 37,
   "id": "f80635b8",
   "metadata": {},
   "outputs": [
    {
     "data": {
      "text/plain": [
       "0.0"
      ]
     },
     "execution_count": 37,
     "metadata": {},
     "output_type": "execute_result"
    }
   ],
   "source": [
    "bounce_rate([5, 2, 7, 5, 4, 3, 9, 6, 3])"
   ]
  },
  {
   "cell_type": "code",
   "execution_count": 38,
   "id": "f7b9de2a",
   "metadata": {},
   "outputs": [
    {
     "data": {
      "text/plain": [
       "0.5555555555555556"
      ]
     },
     "execution_count": 38,
     "metadata": {},
     "output_type": "execute_result"
    }
   ],
   "source": [
    "bounce_rate([1, 2, 7, 1, 4, 3, 1, 1, 1])"
   ]
  },
  {
   "cell_type": "markdown",
   "id": "90aacb48",
   "metadata": {},
   "source": [
    "## The Runnable Section\n",
    "\n",
    "Here, I ask the user for a keyboard input of statistics required for all eight metrics. The input is validated are re-queried util it's correct."
   ]
  },
  {
   "cell_type": "code",
   "execution_count": 44,
   "id": "552cadcc",
   "metadata": {},
   "outputs": [
    {
     "name": "stdout",
     "output_type": "stream",
     "text": [
      "To calculate Click-Through Rate, please enter Total Measured Clicks and Total Measured Ad Impressions.\n",
      "The values must be valid integers. Total Measured Clicks must be non-negative. Total Measured Ad Impressions must be greater than zero. The values are expected to be entered on separate lines.\n",
      "\n",
      "Total Measured Clicks: 30\n",
      "Total Measured Ad Impressions: 50\n",
      "\n",
      "To calculate Return on Investment, please enter Amount Gained and Amount Spent.\n",
      "The values must be valid integers or floats. Amount Gained must be non-negative. Amount Spent must be greater than zero. The values are expected to be entered on separate lines.\n",
      "\n",
      "Amount Gained: 43.3\n",
      "Amount Spent: 23.2123\n",
      "\n",
      "To calculate Average Page Time, please enter a sequence of integers representing how much time each user spent on a web page. The values must be valid integers separated by spaces.\n",
      "\n",
      "Absolute Page Times: 2 4 6 4 3 65 5 3 5 6\n",
      "\n",
      "To calculate Customer Lifetime Value, please enter Average Purchase Value, Average Purchase Frequency and Average Customer Lifespan. The values must be valid non-negative integers or floats. The values are expected to be entered on separate lines.\n",
      "\n",
      "Average Purchase Value: 123.5\n",
      "Average Purchase Frequency: 3\n",
      "Average Customer Lifespan: 3.4\n",
      "\n",
      "To calculate Conversion Rate, please enter Total Attributed Conversion.\n",
      "The value must be a valid integer. Total Attributed Conversion must be non-negative. The previously entered value of Total Measured Clicks is used.\n",
      "\n",
      "Total Attributed Conversion: 13\n",
      "\n",
      "To calculate Average Session Duration, please enter a sequence of integers representing how much time each user spent on a website. The values must be valid integers separated by spaces.\n",
      "\n",
      "Session Length: 3 5 6 3 3 65 6  4 3  2 3 454 5 5 5\n",
      "\n",
      "To calculate Pages per Session and Bounce Rate, please enter a sequence of integers representing how many pages each user visited on a website. The values must be valid integers separated by spaces.\n",
      "\n",
      "Visited Pages: 1 2 3 4 5 6 7 2 4 6 6\n",
      "\n",
      "-------------------------------------------\n",
      "CTR                            | 60.00\n",
      "ROI                            | 86.54\n",
      "Average Page Time              | 25.67\n",
      "CLV                            | 1259.70\n",
      "CR                             | 43.33\n",
      "Average Session Duration       | 38.13\n",
      "Pages per Session              | 4.18\n",
      "Bounce Rate                    | 0.09\n"
     ]
    }
   ],
   "source": [
    "results = dict()\n",
    "\n",
    "# Click-Through Rate\n",
    "print(\"To calculate Click-Through Rate, please enter Total Measured Clicks and Total Measured Ad Impressions.\")\n",
    "print(\"The values must be valid integers. Total Measured Clicks must be non-negative. \\\n",
    "Total Measured Ad Impressions must be greater than zero. The values are expected to be entered on separate lines.\")\n",
    "print()\n",
    "\n",
    "while True:\n",
    "    total_measured_clicks = input(\"Total Measured Clicks: \")\n",
    "    if not is_integer(total_measured_clicks):\n",
    "        print(\"Please enter a valid integer.\")\n",
    "        print()\n",
    "        continue\n",
    "    \n",
    "    total_measured_ad_impressions = input(\"Total Measured Ad Impressions: \")\n",
    "    if not is_integer(total_measured_ad_impressions):\n",
    "        print(\"Please enter a valid integer.\")\n",
    "        print()\n",
    "        continue\n",
    "    \n",
    "    total_measured_clicks, total_measured_ad_impressions = int(total_measured_clicks), int(total_measured_ad_impressions)\n",
    "    ctr = click_through_rate(total_measured_clicks, total_measured_ad_impressions)\n",
    "    if ctr is None:\n",
    "        print()\n",
    "        continue\n",
    "    results[\"CTR\"] = ctr\n",
    "    break\n",
    "print()\n",
    "\n",
    "\n",
    "# Return on Investment\n",
    "print(\"To calculate Return on Investment, please enter Amount Gained and Amount Spent.\")\n",
    "print(\"The values must be valid integers or floats. Amount Gained must be non-negative. \\\n",
    "Amount Spent must be greater than zero. The values are expected to be entered on separate lines.\")\n",
    "print()\n",
    "\n",
    "while True:\n",
    "    amount_gained = input(\"Amount Gained: \")\n",
    "    if not is_float(amount_gained):\n",
    "        print(\"Please enter a valid number (integer or float).\")\n",
    "        print()\n",
    "        continue\n",
    "    \n",
    "    amount_spent = input(\"Amount Spent: \")\n",
    "    if not is_float(amount_spent):\n",
    "        print(\"Please enter a valid number (integer or float).\")\n",
    "        print()\n",
    "        continue\n",
    "    \n",
    "    amount_gained, amount_spent = float(amount_gained), float(amount_spent)\n",
    "    roi = return_on_investment(amount_gained, amount_spent)\n",
    "    if roi is None:\n",
    "        print()\n",
    "        continue\n",
    "    results[\"ROI\"] = roi\n",
    "    break\n",
    "print()\n",
    "\n",
    "\n",
    "# Average Page Time\n",
    "print(\"To calculate Average Page Time, please enter a sequence of integers \\\n",
    "representing how much time each user spent on a web page. The values must be valid integers separated by spaces.\")\n",
    "print()\n",
    "\n",
    "while True:\n",
    "    users = input(\"Absolute Page Times: \").split()\n",
    "    if not is_integer_list(users):\n",
    "        print(\"Please enter a valid sequence of integers.\")\n",
    "        print()\n",
    "        continue\n",
    "    \n",
    "    users = parse_integer_list(users)\n",
    "    apt = average_page_time(users)\n",
    "    if apt is None:\n",
    "        print()\n",
    "        continue\n",
    "    results[\"Average Page Time\"] = apt\n",
    "    break\n",
    "print()\n",
    "\n",
    "\n",
    "# Customer Lifetime Value\n",
    "print(\"To calculate Customer Lifetime Value, please enter Average Purchase Value, Average Purchase Frequency \\\n",
    "and Average Customer Lifespan. The values must be valid non-negative integers or floats. \\\n",
    "The values are expected to be entered on separate lines.\")\n",
    "print()\n",
    "\n",
    "while True:\n",
    "    average_purchase_value = input(\"Average Purchase Value: \")\n",
    "    if not is_float(average_purchase_value):\n",
    "        print(\"Please enter a valid number (integer or float).\")\n",
    "        print()\n",
    "        continue\n",
    "    \n",
    "    average_purchase_frequency = input(\"Average Purchase Frequency: \")\n",
    "    if not is_float(average_purchase_frequency):\n",
    "        print(\"Please enter a valid number (integer or float).\")\n",
    "        print()\n",
    "        continue\n",
    "    \n",
    "    average_customer_lifespan = input(\"Average Customer Lifespan: \")\n",
    "    if not is_float(average_customer_lifespan):\n",
    "        print(\"Please enter a valid number (integer or float).\")\n",
    "        print()\n",
    "        continue\n",
    "    \n",
    "    average_purchase_value, average_purchase_frequency, average_customer_lifespan = float(average_purchase_value), \\\n",
    "                                                                                    float(average_purchase_frequency), \\\n",
    "                                                                                    float(average_customer_lifespan)\n",
    "    clv = customer_lifetime_value(average_purchase_value, average_purchase_frequency, average_customer_lifespan)\n",
    "    if clv is None:\n",
    "        print()\n",
    "        continue\n",
    "    results[\"CLV\"] = clv\n",
    "    break\n",
    "print()\n",
    "\n",
    "\n",
    "# Conversion Rate\n",
    "print(\"To calculate Conversion Rate, please enter Total Attributed Conversion.\")\n",
    "print(\"The value must be a valid integer. Total Attributed Conversion must be non-negative. \\\n",
    "The previously entered value of Total Measured Clicks is used.\")\n",
    "print()\n",
    "\n",
    "while True:\n",
    "    total_attributed_conversion = input(\"Total Attributed Conversion: \")\n",
    "    if not is_integer(total_attributed_conversion):\n",
    "        print(\"Please enter a valid integer.\")\n",
    "        print()\n",
    "        continue\n",
    "    \n",
    "    total_attributed_conversion = int(total_attributed_conversion)\n",
    "    cr = conversion_rate(total_attributed_conversion, total_measured_clicks)\n",
    "    if cr is None:\n",
    "        print()\n",
    "        continue\n",
    "    results[\"CR\"] = cr\n",
    "    break\n",
    "print()\n",
    "\n",
    "\n",
    "# Average Session Duration\n",
    "print(\"To calculate Average Session Duration, please enter a sequence of integers \\\n",
    "representing how much time each user spent on a website. The values must be valid integers separated by spaces.\")\n",
    "print()\n",
    "\n",
    "while True:\n",
    "    sessions = input(\"Session Length: \").split()\n",
    "    if not is_integer_list(sessions):\n",
    "        print(\"Please enter a valid sequence of integers.\")\n",
    "        print()\n",
    "        continue\n",
    "    \n",
    "    sessions = parse_integer_list(sessions)\n",
    "    asd = average_session_duration(sessions)\n",
    "    if asd is None:\n",
    "        print()\n",
    "        continue\n",
    "    results[\"Average Session Duration\"] = asd\n",
    "    break\n",
    "print()\n",
    "\n",
    "\n",
    "# Pages per Session and Bounce Rate\n",
    "# Unified because they need the same data\n",
    "print(\"To calculate Pages per Session and Bounce Rate, please enter a sequence of integers \\\n",
    "representing how many pages each user visited on a website. The values must be valid integers separated by spaces.\")\n",
    "print()\n",
    "\n",
    "while True:\n",
    "    sessions = input(\"Visited Pages: \").split()\n",
    "    if not is_integer_list(sessions):\n",
    "        print(\"Please enter a valid sequence of integers.\")\n",
    "        print()\n",
    "        continue\n",
    "    \n",
    "    sessions = parse_integer_list(sessions)\n",
    "    pps = pages_per_session(sessions)\n",
    "    br = bounce_rate(sessions)\n",
    "    if pps is None:\n",
    "        print()\n",
    "        continue \n",
    "    if br is None:\n",
    "        print()\n",
    "        continue\n",
    "    results[\"Pages per Session\"] = pps\n",
    "    results[\"Bounce Rate\"] = br\n",
    "    break\n",
    "print()\n",
    "\n",
    "\n",
    "print(\"-\" * 43)\n",
    "for metric_name, metric_value in results.items():\n",
    "    print(f\"{metric_name:30} | {metric_value:.2f}\")"
   ]
  }
 ],
 "metadata": {
  "kernelspec": {
   "display_name": "Python 3 (ipykernel)",
   "language": "python",
   "name": "python3"
  },
  "language_info": {
   "codemirror_mode": {
    "name": "ipython",
    "version": 3
   },
   "file_extension": ".py",
   "mimetype": "text/x-python",
   "name": "python",
   "nbconvert_exporter": "python",
   "pygments_lexer": "ipython3",
   "version": "3.11.2"
  }
 },
 "nbformat": 4,
 "nbformat_minor": 5
}
