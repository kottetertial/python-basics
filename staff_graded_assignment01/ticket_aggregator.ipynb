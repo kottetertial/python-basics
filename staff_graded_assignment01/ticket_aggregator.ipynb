{
 "cells": [
  {
   "cell_type": "markdown",
   "id": "f3df6deb",
   "metadata": {},
   "source": [
    "### Process User Input"
   ]
  },
  {
   "cell_type": "code",
   "execution_count": 1,
   "id": "89171e2b",
   "metadata": {},
   "outputs": [
    {
     "name": "stdout",
     "output_type": "stream",
     "text": [
      "How much does the ticket cost? (e.g. 250, 315.15) 192.56\n"
     ]
    }
   ],
   "source": [
    "while True:\n",
    "    ticket_price = input(\"How much does the ticket cost? (e.g. 250, 315.15) \")\n",
    "    for character in ticket_price:\n",
    "        if character not in \"1234567890.\":\n",
    "            print(\"The input is invalid. Please enter a valid price (without currency).\\n\")\n",
    "            break\n",
    "    else:\n",
    "        ticket_price = float(ticket_price)\n",
    "        break"
   ]
  },
  {
   "cell_type": "code",
   "execution_count": 2,
   "id": "3b8bbf24",
   "metadata": {},
   "outputs": [
    {
     "name": "stdout",
     "output_type": "stream",
     "text": [
      "How many transfers are required? (e.g. 0, 4) 0\n"
     ]
    }
   ],
   "source": [
    "while True:\n",
    "    number_of_transfers = input(\"How many transfers are required? (e.g. 0, 4) \")\n",
    "    for character in number_of_transfers:\n",
    "        if character not in \"1234567890\":\n",
    "            print(\"The input is invalid. Please enter a valid integer.\\n\")\n",
    "            break\n",
    "    else:\n",
    "        number_of_transfers = int(number_of_transfers)\n",
    "        break"
   ]
  },
  {
   "cell_type": "code",
   "execution_count": 3,
   "id": "2644d548",
   "metadata": {},
   "outputs": [
    {
     "name": "stdout",
     "output_type": "stream",
     "text": [
      "Is refund included? (Y/N) Y\n"
     ]
    }
   ],
   "source": [
    "while True:\n",
    "    refund_included = input(\"Is refund included? (Y/N) \")\n",
    "    if refund_included == \"Y\":\n",
    "        refund_included = True\n",
    "        break\n",
    "    elif refund_included == \"N\":\n",
    "        refund_included = False\n",
    "        break\n",
    "    print(\"The input is invalid. Please enter either Y (if yes) or N (if no). Note: the input is case-sensitive.\\n\")"
   ]
  },
  {
   "cell_type": "code",
   "execution_count": 4,
   "id": "0d2bf8b6",
   "metadata": {},
   "outputs": [
    {
     "name": "stdout",
     "output_type": "stream",
     "text": [
      "Is luggage included? (Y/N) Y\n"
     ]
    }
   ],
   "source": [
    "while True:\n",
    "    luggage_included = input(\"Is luggage included? (Y/N) \")\n",
    "    if luggage_included == \"Y\":\n",
    "        luggage_included = True\n",
    "        break\n",
    "    elif luggage_included == \"N\":\n",
    "        luggage_included = False\n",
    "        break\n",
    "    print(\"The input is invalid. Please enter either Y (if yes) or N (if no). Note: the input is case-sensitive.\\n\")"
   ]
  },
  {
   "cell_type": "markdown",
   "id": "4067c866",
   "metadata": {},
   "source": [
    "### Classify the Flight"
   ]
  },
  {
   "cell_type": "code",
   "execution_count": 5,
   "id": "fd3962e7",
   "metadata": {},
   "outputs": [
    {
     "name": "stdout",
     "output_type": "stream",
     "text": [
      "Your flight has the following properties:\n",
      "* It costs $192.56;\n",
      "* It requires 0 transfer(s);\n",
      "* Refund is included;\n",
      "* Luggage is included.\n"
     ]
    }
   ],
   "source": [
    "print(\"Your flight has the following properties:\")\n",
    "print(\"* It costs $\" + str(ticket_price), end=\";\\n\")\n",
    "print(\"* It requires\", str(number_of_transfers), \"transfer(s);\")\n",
    "\n",
    "if refund_included:\n",
    "    print(\"* Refund is included;\")\n",
    "else:\n",
    "    print(\"* Refund is not included;\")\n",
    "\n",
    "if luggage_included:\n",
    "    print(\"* Luggage is included.\")\n",
    "else:\n",
    "    print(\"* Luggage is not included.\")"
   ]
  },
  {
   "cell_type": "code",
   "execution_count": 6,
   "id": "3ad931c6",
   "metadata": {},
   "outputs": [
    {
     "name": "stdout",
     "output_type": "stream",
     "text": [
      "This offer is... the best! You should definitely take this flight.\n"
     ]
    }
   ],
   "source": [
    "print(\"This offer is...\", end=\" \")\n",
    "if ticket_price < 200 and number_of_transfers <= 1 and refund_included and luggage_included:\n",
    "    print(\"the best! You should definitely take this flight.\")\n",
    "elif 200 <= ticket_price < 250 and number_of_transfers <= 2:\n",
    "    print(\"good enough. It's fine but you could look for a better one.\")\n",
    "elif ticket_price >= 250 and number_of_transfers >= 3:\n",
    "    print(\"the worst! This is a disgrace to flights. You should never take it.\")\n",
    "else:\n",
    "    print(\"Oops! Your flight does not fall into any of our categories. Sorry we couldn't help you.\")"
   ]
  },
  {
   "cell_type": "markdown",
   "id": "cf909387",
   "metadata": {},
   "source": [
    "### Pros and Cons of the Aggregator\n",
    "\n",
    "#### Pros\n",
    "1. The solution is very straightforward and easy to implement.\n",
    "2. The solution takes into account several criteria, which makes it more or less balanced.\n",
    "3. The categories are based on a customer research!\n",
    "\n",
    "#### Cons\n",
    "1. There are many, many cases not covered by the criteria.\n",
    "2. Luggage and refund are almost never taken into account, but they might be important to the user.\n",
    "\n",
    "#### Suggestion\n",
    "One way the algorithm could be improved is by taking into account all possible combinations of the criteria values, so that it doesn't have to say 'sorry' for not knowing how to categorize a flight :) However, that would make me as a developer invent, build and maintain rules for 3 * 3 * 2 * 2 = 36 possible cases (that's if we are to leave the categories themselves as they are).\n",
    "\n",
    "An easier way would be to assign weights to the criteria. Say a ticket price accounts for 50% of a flight's ranking, the number of transfers - 30%, refund and luggage - 10% each. Then we need to transform values of each criterion into some kind of score keeping in mind that for the price and the number of transfers the scale must be inverted: the cheaper, the better. \n",
    "\n",
    "An example of such a scale for price would be:\n",
    "- <=200 -> 10\n",
    "- 200-210 -> 9\n",
    "- 210-220 -> 8\n",
    "- 220-230 -> 7\n",
    "- 230-240 -> 6\n",
    "- 240-250 -> 5\n",
    "- 250-260 -> 4\n",
    "- 260-270 -> 3\n",
    "- 270-280 -> 2\n",
    "- 280-290 -> 1\n",
    "- \\>=290 -> 0\n",
    "\n",
    "Or ```(300 - max(n, 200)) // 10```\n",
    "\n",
    "...and for transfers:\n",
    "- 0 (a direct flight) -> 10\n",
    "- 1 -> 8\n",
    "- 2 -> 6\n",
    "- 3 -> 4\n",
    "- 4 -> 2\n",
    "- 5+ -> 0\n",
    "\n",
    "Or ```(5 - min(n, 5)) * 2```\n",
    "\n",
    "Then we say that a flight gets an additional point for refunds, and one more for luggage. Then, the scores are multiplied by their weights and summed up. The result is a score for the given flight on a 10-point scale. It can then be converted into a verbal description: outstanding, excellent, etc. Just like we have here, at HSE :) To customize this even more, we could at least ask the user for the weights. The scales could alse be customized, but for now let's just query the weights.\n",
    "\n",
    "So, this way any ticket can be categorized somehow and not be thrown into the 'other' category."
   ]
  },
  {
   "cell_type": "markdown",
   "id": "ffb3f7eb",
   "metadata": {},
   "source": [
    "### Let's Improve This!"
   ]
  },
  {
   "cell_type": "code",
   "execution_count": 7,
   "id": "8132da35",
   "metadata": {},
   "outputs": [
    {
     "name": "stdout",
     "output_type": "stream",
     "text": [
      "Now please think carefully and rank the criteria. Then, enter their priorities so that they all sum up to 10.\n"
     ]
    }
   ],
   "source": [
    "print(\"Now please think carefully and rank the criteria. Then, enter their priorities so that they all sum up to 10.\")"
   ]
  },
  {
   "cell_type": "code",
   "execution_count": 8,
   "id": "76663d21",
   "metadata": {},
   "outputs": [
    {
     "name": "stdout",
     "output_type": "stream",
     "text": [
      "How important is the price of a flight for you on a scale from 1 to 10? 5\n",
      "How important is the number of transfers for you on a scale from 1 to 10? 3\n",
      "How important is the opportunity to request a refund for you on a scale from 1 to 10? 1\n",
      "How important is it for you whether the luggage is included or not on a scale from 1 to 10? 1\n"
     ]
    }
   ],
   "source": [
    "while True:\n",
    "    while True:\n",
    "        price_weight = input(\"How important is the price of a flight for you on a scale from 1 to 10? \")\n",
    "        if price_weight not in \"1023456789\" or int(price_weight) > 10:\n",
    "            print(\"The input is invalid. Please enter a valid integer from 1 to 10.\\n\")\n",
    "            continue\n",
    "        price_weight = int(price_weight)\n",
    "        break\n",
    "    \n",
    "    while True:\n",
    "        transfers_weight = input(\"How important is the number of transfers for you on a scale from 1 to 10? \")\n",
    "        if transfers_weight not in \"1023456789\" or int(transfers_weight) > 10:\n",
    "            print(\"The input is invalid. Please enter a valid integer from 1 to 10.\\n\")\n",
    "            continue\n",
    "        transfers_weight = int(transfers_weight)\n",
    "        break\n",
    "    \n",
    "    while True:\n",
    "        refund_weight = input(\"How important is the opportunity to request a refund for you on a scale from 1 to 10? \")\n",
    "        if refund_weight not in \"1023456789\" or int(refund_weight) > 10:\n",
    "            print(\"The input is invalid. Please enter a valid integer from 1 to 10.\\n\")\n",
    "            continue\n",
    "        refund_weight = int(refund_weight)\n",
    "        break\n",
    "        \n",
    "    while True:\n",
    "        luggage_weight = input(\"How important is it for you whether the luggage is included or not on a scale from 1 to 10? \")\n",
    "        if luggage_weight not in \"1023456789\" or int(luggage_weight) > 10:\n",
    "            print(\"The input is invalid. Please enter a valid integer from 1 to 10.\\n\")\n",
    "            continue\n",
    "        luggage_weight = int(luggage_weight)\n",
    "        break\n",
    "        \n",
    "    if price_weight + transfers_weight + refund_weight + luggage_weight == 10:\n",
    "        break\n",
    "    print(\"The values are invalid. Please make sure the weights sum up to 10.\")"
   ]
  },
  {
   "cell_type": "code",
   "execution_count": 9,
   "id": "44ac63c6",
   "metadata": {},
   "outputs": [],
   "source": [
    "ticket_price_score = (300 - max(ticket_price, 200)) // 10"
   ]
  },
  {
   "cell_type": "code",
   "execution_count": 10,
   "id": "b825fdc8",
   "metadata": {},
   "outputs": [],
   "source": [
    "number_of_transfers_score = (5 - min(number_of_transfers, 5)) * 2"
   ]
  },
  {
   "cell_type": "code",
   "execution_count": 11,
   "id": "4ad2b1a9",
   "metadata": {},
   "outputs": [],
   "source": [
    "result = round(ticket_price_score * price_weight / 10\n",
    "               + number_of_transfers_score * transfers_weight / 10\n",
    "               + refund_included * refund_weight\n",
    "               + luggage_included * luggage_weight)"
   ]
  },
  {
   "cell_type": "code",
   "execution_count": 12,
   "id": "6528e598",
   "metadata": {},
   "outputs": [
    {
     "name": "stdout",
     "output_type": "stream",
     "text": [
      "The flight was ranked 10/10. The flight appears to be excellent according to your priorities.\n"
     ]
    }
   ],
   "source": [
    "print(\"The flight was ranked \" + str(result) + \"/10.\", end=\" \")\n",
    "\n",
    "if result == 10:\n",
    "    grade = \"excellent\"\n",
    "elif 8 <= result <= 9:\n",
    "    grade = \"very good\"\n",
    "elif 6 <= result <= 7:\n",
    "    grade = \"good\"\n",
    "elif 4 <= result <= 5:\n",
    "    grade = \"satisfactory\"\n",
    "else:\n",
    "    grade = \"unsatisfactory\"\n",
    "    \n",
    "print(\"The flight appears to be\", grade, \"according to your priorities.\")"
   ]
  }
 ],
 "metadata": {
  "kernelspec": {
   "display_name": "Python 3 (ipykernel)",
   "language": "python",
   "name": "python3"
  },
  "language_info": {
   "codemirror_mode": {
    "name": "ipython",
    "version": 3
   },
   "file_extension": ".py",
   "mimetype": "text/x-python",
   "name": "python",
   "nbconvert_exporter": "python",
   "pygments_lexer": "ipython3",
   "version": "3.11.2"
  }
 },
 "nbformat": 4,
 "nbformat_minor": 5
}
